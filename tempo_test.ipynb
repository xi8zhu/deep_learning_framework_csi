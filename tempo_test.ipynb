{
 "cells": [
  {
   "cell_type": "code",
   "execution_count": 4,
   "metadata": {},
   "outputs": [
    {
     "data": {
      "text/plain": [
       "'c:\\\\ProgramData\\\\anaconda3\\\\envs\\\\lzhcsi;C:\\\\ProgramData\\\\anaconda3\\\\envs\\\\lzhcsi;C:\\\\ProgramData\\\\anaconda3\\\\envs\\\\lzhcsi\\\\Library\\\\mingw-w64\\\\bin;C:\\\\ProgramData\\\\anaconda3\\\\envs\\\\lzhcsi\\\\Library\\\\usr\\\\bin;C:\\\\ProgramData\\\\anaconda3\\\\envs\\\\lzhcsi\\\\Library\\\\bin;C:\\\\ProgramData\\\\anaconda3\\\\envs\\\\lzhcsi\\\\Scripts;C:\\\\ProgramData\\\\anaconda3\\\\envs\\\\lzhcsi\\\\bin;C:\\\\ProgramData\\\\anaconda3\\\\condabin;C:\\\\Program Files\\\\NVIDIA GPU Computing Toolkit\\\\CUDA\\\\v11.7\\\\bin;C:\\\\Program Files\\\\NVIDIA GPU Computing Toolkit\\\\CUDA\\\\v11.7\\\\libnvvp;C:\\\\Windows\\\\system32;C:\\\\Windows;C:\\\\Windows\\\\System32\\\\Wbem;C:\\\\Windows\\\\System32\\\\WindowsPowerShell\\\\v1.0;C:\\\\Windows\\\\System32\\\\OpenSSH;C:\\\\Program Files (x86)\\\\NVIDIA Corporation\\\\PhysX\\\\Common;C:\\\\ProgramData\\\\anaconda3\\\\Scripts;C:\\\\ProgramData\\\\anaconda3;C:\\\\Program Files\\\\NVIDIA Corporation\\\\Nsight Compute 2022.2.1;C:\\\\Users\\\\user1\\\\AppData\\\\Local\\\\Microsoft\\\\WindowsApps;C:\\\\Program Files\\\\JetBrains\\\\PyCharm Community Edition 2023.1\\\\bin;C:\\\\Users\\\\user1\\\\AppData\\\\Local\\\\Programs\\\\Microsoft VS Code\\\\bin'"
      ]
     },
     "execution_count": 4,
     "metadata": {},
     "output_type": "execute_result"
    }
   ],
   "source": [
    "import os\n",
    "os.getenv('path')"
   ]
  },
  {
   "cell_type": "code",
   "execution_count": 5,
   "metadata": {},
   "outputs": [
    {
     "name": "stdout",
     "output_type": "stream",
     "text": [
      "c:\\ProgramData\\anaconda3\\envs\\lzhcsi;C:\\ProgramData\\anaconda3\\envs\\lzhcsi;C:\\ProgramData\\anaconda3\\envs\\lzhcsi\\Library\\mingw-w64\\bin;C:\\ProgramData\\anaconda3\\envs\\lzhcsi\\Library\\usr\\bin;C:\\ProgramData\\anaconda3\\envs\\lzhcsi\\Library\\bin;C:\\ProgramData\\anaconda3\\envs\\lzhcsi\\Scripts;C:\\ProgramData\\anaconda3\\envs\\lzhcsi\\bin;C:\\ProgramData\\anaconda3\\condabin;C:\\Program Files\\NVIDIA GPU Computing Toolkit\\CUDA\\v11.7\\bin;C:\\Program Files\\NVIDIA GPU Computing Toolkit\\CUDA\\v11.7\\libnvvp;C:\\Windows\\system32;C:\\Windows;C:\\Windows\\System32\\Wbem;C:\\Windows\\System32\\WindowsPowerShell\\v1.0;C:\\Windows\\System32\\OpenSSH;C:\\Program Files (x86)\\NVIDIA Corporation\\PhysX\\Common;C:\\ProgramData\\anaconda3\\Scripts;C:\\ProgramData\\anaconda3;C:\\Program Files\\NVIDIA Corporation\\Nsight Compute 2022.2.1;C:\\Users\\user1\\AppData\\Local\\Microsoft\\WindowsApps;C:\\Program Files\\JetBrains\\PyCharm Community Edition 2023.1\\bin;C:\\Users\\user1\\AppData\\Local\\Programs\\Microsoft VS Code\\bin\n"
     ]
    }
   ],
   "source": [
    "print(os.environ['path'])\n"
   ]
  },
  {
   "cell_type": "code",
   "execution_count": null,
   "metadata": {},
   "outputs": [],
   "source": []
  },
  {
   "cell_type": "code",
   "execution_count": null,
   "metadata": {},
   "outputs": [],
   "source": []
  }
 ],
 "metadata": {
  "kernelspec": {
   "display_name": "lzhcsi",
   "language": "python",
   "name": "python3"
  },
  "language_info": {
   "codemirror_mode": {
    "name": "ipython",
    "version": 3
   },
   "file_extension": ".py",
   "mimetype": "text/x-python",
   "name": "python",
   "nbconvert_exporter": "python",
   "pygments_lexer": "ipython3",
   "version": "3.10.14"
  }
 },
 "nbformat": 4,
 "nbformat_minor": 2
}
